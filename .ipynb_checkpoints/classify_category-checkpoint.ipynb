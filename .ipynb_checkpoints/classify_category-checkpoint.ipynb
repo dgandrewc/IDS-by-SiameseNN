{
 "cells": [
  {
   "cell_type": "markdown",
   "metadata": {},
   "source": [
    "# COMMON DEFINE"
   ]
  },
  {
   "cell_type": "code",
   "execution_count": null,
   "metadata": {},
   "outputs": [],
   "source": [
    "from keras.models import Sequential\n",
    "from keras.layers import Input\n",
    "from keras.models import Model\n",
    "from keras.optimizers import Adam\n",
    "from keras.layers.core import Lambda, Dense\n",
    "from keras import backend as K\n",
    "from keras.callbacks import EarlyStopping\n",
    "from sklearn.model_selection import train_test_split\n",
    "from tensorflow.keras.models import load_model\n",
    "from keras.regularizers import l2\n",
    "K.set_image_data_format('channels_last')\n",
    "import csv\n",
    "import os\n",
    "import numpy as np\n",
    "import pandas as pd"
   ]
  },
  {
   "cell_type": "code",
   "execution_count": null,
   "metadata": {},
   "outputs": [],
   "source": [
    "def load_data(i):\n",
    "    data=pd.read_csv('data/siamese_data_merge/'+str(i)+'.csv', 'r', delimiter=',')\n",
    "    train, val=train_test_split(data, test_size=0.1)\n",
    "    \n",
    "    X_train1=[]\n",
    "    X_train2=[]\n",
    "    Y_train=[]\n",
    "    train_length=len(train)\n",
    "    for j in range(0, train_length):\n",
    "        X_train1.append(train.iloc[j][0:38].values)\n",
    "        X_train2.append(train.iloc[j][38:76].values)\n",
    "        Y_train.append(train.iloc[j][76])\n",
    "        \n",
    "    X_val1=[]\n",
    "    X_val2=[]\n",
    "    Y_val=[]\n",
    "    val_length=len(val)\n",
    "    for j in range(0, val_length):\n",
    "        X_val1.append(val.iloc[j][0:38].values)\n",
    "        X_val2.append(val.iloc[j][38:76].values)\n",
    "        Y_val.append(val.iloc[j][76])\n",
    "\n",
    "    X_train1=np.reshape(X_train1, [train_length, 38])\n",
    "    X_train2=np.reshape(X_train2, [train_length, 38])\n",
    "    Y_train=np.reshape(Y_train, [train_length, 1])\n",
    "    X_val1=np.reshape(X_val1, [val_length, 38])\n",
    "    X_val2=np.reshape(X_val2, [val_length, 38])\n",
    "    Y_val=np.reshape(Y_val, [val_length, 1])\n",
    "    \n",
    "    return [X_train1, X_train2, Y_train, X_val1, X_val2, Y_val]"
   ]
  },
  {
   "cell_type": "code",
   "execution_count": null,
   "metadata": {},
   "outputs": [],
   "source": [
    "def initialize_weights(shape, dtype=np.float32):\n",
    "    return np.random.normal(loc = 0.0, scale = 1e-2, size = shape)\n",
    "def initialize_bias(shape, dtype=np.float32):\n",
    "    return np.random.normal(loc = 0.5, scale = 1e-2, size = shape)"
   ]
  },
  {
   "cell_type": "code",
   "execution_count": null,
   "metadata": {},
   "outputs": [],
   "source": [
    "def get_siamese_model():\n",
    "    left_input = Input(shape=(38,))\n",
    "    right_input = Input(shape=(38,))\n",
    "    model = Sequential()\n",
    "    model.add(Dense(64, activation='relu',\n",
    "                    input_shape=(38,),\n",
    "                    kernel_regularizer=l2(1e-3),\n",
    "                    kernel_initializer=initialize_weights,bias_initializer=initialize_bias))\n",
    "    \n",
    "    model.add(Dense(512, activation='relu',\n",
    "                    kernel_regularizer=l2(1e-3),\n",
    "                    kernel_initializer=initialize_weights,bias_initializer=initialize_bias))\n",
    "    \n",
    "    model.add(Dense(512, activation='relu',\n",
    "                    kernel_regularizer=l2(1e-3),\n",
    "                    kernel_initializer=initialize_weights,bias_initializer=initialize_bias))\n",
    "    \n",
    "    encoded_l = model(left_input)\n",
    "    encoded_r = model(right_input)\n",
    "    L1_layer = Lambda(lambda tensors:K.abs(tensors[0] - tensors[1]))\n",
    "    L1_distance = L1_layer([encoded_l, encoded_r])\n",
    "    prediction = Dense(1,activation='sigmoid', bias_initializer=initialize_bias)(L1_distance)\n",
    "    siamese_net = Model(inputs=[left_input,right_input],outputs=prediction)\n",
    "    return siamese_net"
   ]
  },
  {
   "cell_type": "code",
   "execution_count": null,
   "metadata": {
    "scrolled": true
   },
   "outputs": [],
   "source": [
    "model=get_siamese_model()\n",
    "model.compile(loss='binary_crossentropy', optimizer='adam', metrics=['accuracy'])\n",
    "early_stopping=EarlyStopping(monitor='val_loss')\n",
    "for i in range(0, 16):\n",
    "    z=load_data(i)\n",
    "    hist=model.fit([z[0], z[1]], z[2], validation_data=([z[3], z[4]], z[5]), batch_size=128, epochs=10, callbacks=[early_stopping])\n",
    "    model.save('model/test'+str(i)+'.h5')"
   ]
  }
 ],
 "metadata": {
  "kernelspec": {
   "display_name": "Python 3",
   "language": "python",
   "name": "python3"
  },
  "language_info": {
   "codemirror_mode": {
    "name": "ipython",
    "version": 3
   },
   "file_extension": ".py",
   "mimetype": "text/x-python",
   "name": "python",
   "nbconvert_exporter": "python",
   "pygments_lexer": "ipython3",
   "version": "3.7.4"
  }
 },
 "nbformat": 4,
 "nbformat_minor": 2
}
