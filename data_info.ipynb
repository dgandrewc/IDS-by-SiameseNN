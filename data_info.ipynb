{
 "cells": [
  {
   "cell_type": "markdown",
   "metadata": {},
   "source": [
    "# SHOW DATA INFO"
   ]
  },
  {
   "cell_type": "code",
   "execution_count": null,
   "metadata": {},
   "outputs": [],
   "source": [
    "import numpy as np\n",
    "import pandas as pd\n",
    "import csv\n",
    "import matplotlib.pyplot as plt"
   ]
  },
  {
   "cell_type": "code",
   "execution_count": null,
   "metadata": {},
   "outputs": [],
   "source": [
    "train=pd.read_csv('data/KDDTrain+.csv', names=['Duration', 'Protocol type', 'Service', 'Flag', 'Source bytes', 'Destination bytes', 'Land', 'Wrong fragment', 'Urgent', 'Hot', 'Number failed logins', 'Logged in', 'Num compromised', 'Root shell', 'Su attempted', 'Num root', 'Num file creations', 'Num shells', 'Num access files', 'Num outbound cmds', 'Is host login', 'Is guest login', 'Count', 'Srv count', 'Serror rate', 'Srv serror rate', 'Rerror rate', 'Srv rerror rate', 'Same srv rate', 'Diff srv rate', 'Srv diff host rate', 'Dst host count', 'Dst host srv count', 'Dst host same srv rate', 'Dst host diff srv rate', 'Dst host same src port rate', 'Dst host srv diff host rate', 'Dst host serror rate', 'Dst host srv serror rate', 'Dst host rerror rate', 'Dst host srv rerro rate', 'Class label'])\n",
    "test=pd.read_csv('data/KDDTest+.csv', names=['Duration', 'Protocol type', 'Service', 'Flag', 'Source bytes', 'Destination bytes', 'Land', 'Wrong fragment', 'Urgent', 'Hot', 'Number failed logins', 'Logged in', 'Num compromised', 'Root shell', 'Su attempted', 'Num root', 'Num file creations', 'Num shells', 'Num access files', 'Num outbound cmds', 'Is host login', 'Is guest login', 'Count', 'Srv count', 'Serror rate', 'Srv serror rate', 'Rerror rate', 'Srv rerror rate', 'Same srv rate', 'Diff srv rate', 'Srv diff host rate', 'Dst host count', 'Dst host srv count', 'Dst host same srv rate', 'Dst host diff srv rate', 'Dst host same src port rate', 'Dst host srv diff host rate', 'Dst host serror rate', 'Dst host srv serror rate', 'Dst host rerror rate', 'Dst host srv rerro rate', 'Class label'])"
   ]
  },
  {
   "cell_type": "code",
   "execution_count": null,
   "metadata": {},
   "outputs": [],
   "source": [
    "print(train['Class label'].value_counts())\n",
    "print(test['Class label'].value_counts())"
   ]
  },
  {
   "cell_type": "code",
   "execution_count": null,
   "metadata": {},
   "outputs": [],
   "source": [
    "objects = ('normal', 'neptune', 'satan', 'ipsweep', 'portsweep', 'smurf', 'nmap')\n",
    "y_pos = np.arange(len(objects))\n",
    "performance = [67343,41214,3633,3599,2931,2646,1493]\n",
    "plt.bar(y_pos, performance, align='center', alpha=0.5)\n",
    "plt.xticks(y_pos, objects)\n",
    "plt.ylabel('Number of data')\n",
    "plt.title('attacks classification train\\n')\n",
    "fig = plt.gcf()\n",
    "fig.set_size_inches(8,8)\n",
    "plt.show()\n",
    "\n",
    "objects = ('normal', 'neptune', 'guess_password', 'mscan', 'warezmaster', 'apache2', 'satan')\n",
    "y_pos = np.arange(len(objects))\n",
    "performance = [9711,4657,1231,996,944,737,735]\n",
    "plt.bar(y_pos, performance, align='center', alpha=0.5)\n",
    "plt.xticks(y_pos, objects)\n",
    "plt.ylabel('Number of data')\n",
    "plt.title('attacks classification test\\n')\n",
    "fig = plt.gcf()\n",
    "fig.set_size_inches(8,8)\n",
    "plt.show()"
   ]
  },
  {
   "cell_type": "code",
   "execution_count": null,
   "metadata": {},
   "outputs": [],
   "source": [
    "test=pd.read_csv('data/test_unseen.csv', names=['Duration', 'Source bytes', 'Destination bytes', 'Land', 'Wrong fragment', 'Urgent', 'Hot', 'Number failed logins', 'Logged in', 'Num compromised', 'Root shell', 'Su attempted', 'Num root', 'Num file creations', 'Num shells', 'Num access files', 'Num outbound cmds', 'Is host login', 'Is guest login', 'Count', 'Srv count', 'Serror rate', 'Srv serror rate', 'Rerror rate', 'Srv rerror rate', 'Same srv rate', 'Diff srv rate', 'Srv diff host rate', 'Dst host count', 'Dst host srv count', 'Dst host same srv rate', 'Dst host diff srv rate', 'Dst host same src port rate', 'Dst host srv diff host rate', 'Dst host serror rate', 'Dst host srv serror rate', 'Dst host rerror rate', 'Dst host srv rerro rate', 'Class label'])\n",
    "print(test['Class label'].value_counts())"
   ]
  }
 ],
 "metadata": {
  "kernelspec": {
   "display_name": "Python 3",
   "language": "python",
   "name": "python3"
  },
  "language_info": {
   "codemirror_mode": {
    "name": "ipython",
    "version": 3
   },
   "file_extension": ".py",
   "mimetype": "text/x-python",
   "name": "python",
   "nbconvert_exporter": "python",
   "pygments_lexer": "ipython3",
   "version": "3.7.4"
  }
 },
 "nbformat": 4,
 "nbformat_minor": 2
}
